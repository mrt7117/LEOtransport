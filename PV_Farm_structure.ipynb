{
 "cells": [
  {
   "cell_type": "code",
   "execution_count": 3,
   "metadata": {},
   "outputs": [],
   "source": [
    "# a piece of code which generates a structure for a 1MW plant in Eynsham\n",
    "from dataclasses import dataclass\n",
    "from typing import NamedTuple\n",
    "import numpy as np\n",
    "import pandas as pd\n",
    "import matplotlib.pyplot as plt\n",
    "import datetime\n",
    "\n",
    "df_epr1= pd.read_csv(\"ninja_pv_eynsham_PR_1MW.csv\", index_col=0,parse_dates=True,dayfirst=True, delimiter=\",\")\n",
    "df_epr1_year = df_epr1.resample(\"Y\").sum()\n",
    "epr1_year_output = df_epr1_year.at[\"2015-12-31\",\"electricity (kWh)\"]\n",
    "capacity_epr1 = 1e6\n",
    "area_epr1 = capacity_epr1/90\n",
    "@dataclass\n",
    "class User(NamedTuple):\n",
    "    name: str\n",
    "\n",
    "        \n",
    "# determine the different aspects of the PV_Farm, and the nature of each aspect (float, string etc)\n",
    "class PV_Farm(NamedTuple):\n",
    "    #capacity in W\n",
    "    Capacity: float\n",
    "    #dataframe of hourly output\n",
    "    df_hour: pd.DataFrame\n",
    "    #annual production of energy (W)\n",
    "    Annual_Output: float\n",
    "    #area in metres squared\n",
    "    Area: float"
   ]
  },
  {
   "cell_type": "code",
   "execution_count": 4,
   "metadata": {},
   "outputs": [
    {
     "name": "stdout",
     "output_type": "stream",
     "text": [
      "PV_Farm(Capacity=1000000.0, df_hour=                           local_time  electricity (kWh)\n",
      "time                                                    \n",
      "2015-01-01 00:00:00   01/01/2015 0:00                0.0\n",
      "2015-01-01 01:00:00   01/01/2015 1:00                0.0\n",
      "2015-01-01 02:00:00   01/01/2015 2:00                0.0\n",
      "2015-01-01 03:00:00   01/01/2015 3:00                0.0\n",
      "2015-01-01 04:00:00   01/01/2015 4:00                0.0\n",
      "...                               ...                ...\n",
      "2015-12-31 19:00:00  31/12/2015 19:00                0.0\n",
      "2015-12-31 20:00:00  31/12/2015 20:00                0.0\n",
      "2015-12-31 21:00:00  31/12/2015 21:00                0.0\n",
      "2015-12-31 22:00:00  31/12/2015 22:00                0.0\n",
      "2015-12-31 23:00:00  31/12/2015 23:00                0.0\n",
      "\n",
      "[8760 rows x 2 columns], Annual_Output=1061098.5079999985, Area=11111.111111111111)\n"
     ]
    }
   ],
   "source": [
    "PV_EPR_1MW = PV_Farm(Capacity=capacity_epr1,df_hour=df_epr1,Annual_Output=epr1_year_output,Area=area_epr1)\n",
    "print(PV_EPR_1MW)"
   ]
  },
  {
   "cell_type": "code",
   "execution_count": 5,
   "metadata": {},
   "outputs": [
    {
     "data": {
      "text/plain": [
       "1061098.5079999985"
      ]
     },
     "execution_count": 5,
     "metadata": {},
     "output_type": "execute_result"
    }
   ],
   "source": [
    "PV_EPR_1MW.Annual_Output"
   ]
  },
  {
   "cell_type": "code",
   "execution_count": 6,
   "metadata": {},
   "outputs": [
    {
     "data": {
      "text/plain": [
       "11111.111111111111"
      ]
     },
     "execution_count": 6,
     "metadata": {},
     "output_type": "execute_result"
    }
   ],
   "source": [
    "PV_EPR_1MW.Area"
   ]
  },
  {
   "cell_type": "code",
   "execution_count": 7,
   "metadata": {},
   "outputs": [
    {
     "data": {
      "text/plain": [
       "PV_Farm(Capacity=1000000.0, df_hour=                           local_time  electricity (kWh)\n",
       "time                                                    \n",
       "2015-01-01 00:00:00   01/01/2015 0:00                0.0\n",
       "2015-01-01 01:00:00   01/01/2015 1:00                0.0\n",
       "2015-01-01 02:00:00   01/01/2015 2:00                0.0\n",
       "2015-01-01 03:00:00   01/01/2015 3:00                0.0\n",
       "2015-01-01 04:00:00   01/01/2015 4:00                0.0\n",
       "...                               ...                ...\n",
       "2015-12-31 19:00:00  31/12/2015 19:00                0.0\n",
       "2015-12-31 20:00:00  31/12/2015 20:00                0.0\n",
       "2015-12-31 21:00:00  31/12/2015 21:00                0.0\n",
       "2015-12-31 22:00:00  31/12/2015 22:00                0.0\n",
       "2015-12-31 23:00:00  31/12/2015 23:00                0.0\n",
       "\n",
       "[8760 rows x 2 columns], Annual_Output=1061098.5079999985, Area=11111.111111111111)"
      ]
     },
     "execution_count": 7,
     "metadata": {},
     "output_type": "execute_result"
    }
   ],
   "source": [
    "PV_EPR_1MW"
   ]
  },
  {
   "cell_type": "code",
   "execution_count": null,
   "metadata": {},
   "outputs": [],
   "source": []
  }
 ],
 "metadata": {
  "kernelspec": {
   "display_name": "Python 3",
   "language": "python",
   "name": "python3"
  },
  "language_info": {
   "codemirror_mode": {
    "name": "ipython",
    "version": 3
   },
   "file_extension": ".py",
   "mimetype": "text/x-python",
   "name": "python",
   "nbconvert_exporter": "python",
   "pygments_lexer": "ipython3",
   "version": "3.8.5"
  }
 },
 "nbformat": 4,
 "nbformat_minor": 4
}
