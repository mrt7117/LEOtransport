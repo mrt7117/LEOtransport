{
 "cells": [
  {
   "cell_type": "markdown",
   "id": "5135ed1d",
   "metadata": {},
   "source": [
    "# Railway station modelling\n",
    "## MT week6"
   ]
  },
  {
   "cell_type": "code",
   "execution_count": 1,
   "id": "de8196bf",
   "metadata": {},
   "outputs": [],
   "source": [
    "import os\n",
    "import numpy as np\n",
    "import pandas as pd\n",
    "import matplotlib.pyplot as plt\n",
    "import matplotlib.cm as cm\n",
    "import datetime\n",
    "%matplotlib inline"
   ]
  },
  {
   "cell_type": "markdown",
   "id": "bd3b1c99",
   "metadata": {},
   "source": [
    "# Station H2 storage modelling\n",
    "## A fullness factor ( daily demand / total capacity ) is determined using LAX figure from 1994"
   ]
  },
  {
   "cell_type": "code",
   "execution_count": 47,
   "id": "c79512f9",
   "metadata": {},
   "outputs": [],
   "source": [
    "def daily_storage(full_factor,daily_demand):\n",
    "    capacity = daily_demand / full_factor\n",
    "    #print('Daily stored H2 is '+ str(capacity) + \"kg\")\n",
    "    return capacity"
   ]
  },
  {
   "cell_type": "code",
   "execution_count": 54,
   "id": "f679a2b9",
   "metadata": {},
   "outputs": [],
   "source": [
    "class Station:\n",
    "    \"\"\"Non-dispatchable asset base class\"\"\"\n",
    "    def __init__(self,capacity,daily_demand,annual_demand,install_cost,operation_cost,timetable,refuel,train_capacity):\n",
    "        self.storage = capacity\n",
    "        self.daily_demand = daily_demand\n",
    "        self.annual_demand = annual_demand\n",
    "        self.install_cost = install_cost\n",
    "        self.operation_cost = operation_cost\n",
    "        self.timetable = timetable\n",
    "        self.refuel=refuel\n",
    "        self.train_capacity =train_capacity\n",
    "        \n",
    "\n",
    "    def add_Hydrogen(self):\n",
    "        total_H2 = self.storage+self.refuel\n",
    "        print(total_H2)\n",
    "        return total_H2\n",
    "    \n",
    "    \n",
    "    def charge_train(self,train_capacity):\n",
    "        total_H2 = self.storage - train_capacity\n",
    "        print(total_H2)\n",
    "        return total_H2\n",
    "    \n",
    "    \n",
    "    def show_storage(self):\n",
    "        \"\"\"\n",
    "        net_load : Array\n",
    "            The net load of the system.\n",
    "        \"\"\"\n",
    "        timetable = self.timetable  # timetable for trains. Train refuels immediately before outbound\n",
    "        intervals = np.zeros(len(timetable),1)\n",
    "        print('Daily stored H2 is '+ str(capacity) + \"kg\")\n",
    "        \n",
    "        \n",
    "        "
   ]
  },
  {
   "cell_type": "code",
   "execution_count": 55,
   "id": "4d83d587",
   "metadata": {
    "scrolled": true
   },
   "outputs": [
    {
     "data": {
      "text/plain": [
       "1928.5714285714284"
      ]
     },
     "execution_count": 55,
     "metadata": {},
     "output_type": "execute_result"
    }
   ],
   "source": [
    "daily_storage(0.56,18*60)"
   ]
  },
  {
   "cell_type": "code",
   "execution_count": 56,
   "id": "af27924e",
   "metadata": {},
   "outputs": [],
   "source": [
    "Whitney_station= Station(daily_storage(0.56,18*60),18*60,18*60*365,1,1,1,18*60,18 )"
   ]
  },
  {
   "cell_type": "code",
   "execution_count": 57,
   "id": "adf0cc10",
   "metadata": {},
   "outputs": [
    {
     "name": "stdout",
     "output_type": "stream",
     "text": [
      "3008.5714285714284\n"
     ]
    },
    {
     "data": {
      "text/plain": [
       "3008.5714285714284"
      ]
     },
     "execution_count": 57,
     "metadata": {},
     "output_type": "execute_result"
    }
   ],
   "source": [
    "Whitney_station.add_Hydrogen()"
   ]
  },
  {
   "cell_type": "code",
   "execution_count": 58,
   "id": "3f23fe85",
   "metadata": {},
   "outputs": [
    {
     "name": "stdout",
     "output_type": "stream",
     "text": [
      "1910.5714285714284\n"
     ]
    },
    {
     "data": {
      "text/plain": [
       "1910.5714285714284"
      ]
     },
     "execution_count": 58,
     "metadata": {},
     "output_type": "execute_result"
    }
   ],
   "source": [
    "Whitney_station.charge_train(18)"
   ]
  },
  {
   "cell_type": "code",
   "execution_count": null,
   "id": "b729b3bf",
   "metadata": {},
   "outputs": [],
   "source": []
  }
 ],
 "metadata": {
  "kernelspec": {
   "display_name": "Python 3",
   "language": "python",
   "name": "python3"
  },
  "language_info": {
   "codemirror_mode": {
    "name": "ipython",
    "version": 3
   },
   "file_extension": ".py",
   "mimetype": "text/x-python",
   "name": "python",
   "nbconvert_exporter": "python",
   "pygments_lexer": "ipython3",
   "version": "3.8.8"
  }
 },
 "nbformat": 4,
 "nbformat_minor": 5
}
